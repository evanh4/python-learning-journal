{
  "nbformat": 4,
  "nbformat_minor": 0,
  "metadata": {
    "colab": {
      "provenance": [],
      "authorship_tag": "ABX9TyP2e02rM7RG2HlKbfuBqcD1",
      "include_colab_link": true
    },
    "kernelspec": {
      "name": "python3",
      "display_name": "Python 3"
    },
    "language_info": {
      "name": "python"
    }
  },
  "cells": [
    {
      "cell_type": "markdown",
      "metadata": {
        "id": "view-in-github",
        "colab_type": "text"
      },
      "source": [
        "<a href=\"https://colab.research.google.com/github/evanh4/python-learning-journal/blob/main/Lab_Week_2.ipynb\" target=\"_parent\"><img src=\"https://colab.research.google.com/assets/colab-badge.svg\" alt=\"Open In Colab\"/></a>"
      ]
    },
    {
      "cell_type": "code",
      "execution_count": 10,
      "metadata": {
        "colab": {
          "base_uri": "https://localhost:8080/"
        },
        "id": "mM6L-E9-hmld",
        "outputId": "06864d0c-ea78-41f2-a270-2bc76b4e21ce"
      },
      "outputs": [
        {
          "output_type": "stream",
          "name": "stdout",
          "text": [
            "Enter the number of kilometers to convert: 23\n",
            "23 km converts to 14.291533 miles.\n"
          ]
        }
      ],
      "source": [
        "#Kilometers to miles conversion tool\n",
        "#Enter the amount of kilometers to be converted\n",
        "kilometers = int(input(\"Enter the number of kilometers to convert: \"))\n",
        "#Convert kilometers to miles by multiplying input by 0.621371\n",
        "miles = kilometers * 0.621371\n",
        "#Print the result of the conversion\n",
        "print(kilometers, \"km converts to\",miles, \"miles.\")"
      ]
    },
    {
      "cell_type": "code",
      "source": [
        "#Celsius to Fahrenheit conversion tool\n",
        "#Enter the number in celsius to be converted to fahrenheit\n",
        "Celsius = int(input(\"Enter the number of celsius to convert: \"))\n",
        "#Convert celsius to fahrenheit by multiplying by 1.8, then adding 32 to the result\n",
        "fahrenheit = (Celsius *1.8) + 32\n",
        "#Print the result of the conversion\n",
        "print(Celsius, \"degrees celsius converts to\", fahrenheit, \"degrees fahrenheit.\")\n"
      ],
      "metadata": {
        "colab": {
          "base_uri": "https://localhost:8080/"
        },
        "id": "qlNWD_Nrhngt",
        "outputId": "919d58ce-eb89-4c2a-ece9-e1588d000c4c"
      },
      "execution_count": 7,
      "outputs": [
        {
          "output_type": "stream",
          "name": "stdout",
          "text": [
            "Enter the number of celsius to convert: 56\n",
            "56 degrees celsius converts to 132.8 degrees fahrenheit.\n"
          ]
        }
      ]
    },
    {
      "cell_type": "code",
      "source": [
        "#Binary to Decimal Converter\n",
        "#Enter the number in binary that you wish to convert\n",
        "binary_input = input(\"Enter the number in binary: \")\n",
        "#Convert binary number input to decimal number\n",
        "decimal = 0\n",
        "power =0\n",
        "for digit in binary_input[::-1]:\n",
        "    decimal += int(digit) * 2 ** power\n",
        "    power += 1\n",
        "#Print result of decimal conversion\n",
        "print(\"The decimal conversion is:\", decimal)"
      ],
      "metadata": {
        "colab": {
          "base_uri": "https://localhost:8080/"
        },
        "id": "99UOrvfPooCV",
        "outputId": "da9109c2-cd47-419e-f94b-a4f5e51daad6"
      },
      "execution_count": 14,
      "outputs": [
        {
          "output_type": "stream",
          "name": "stdout",
          "text": [
            "Enter the number in binary: 101001\n",
            "The decimal conversion is: 41\n"
          ]
        }
      ]
    }
  ]
}